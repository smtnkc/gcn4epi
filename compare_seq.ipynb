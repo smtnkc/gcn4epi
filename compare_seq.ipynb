{
 "cells": [
  {
   "cell_type": "markdown",
   "metadata": {},
   "source": [
    "**[iEnhancer-2L](https://academic.oup.com/bioinformatics/article/32/3/362/1744331)** ➡ H1ES, **K562**, **GM12878**, HepG2, **HUVEC**, HSMM, NHLF, **NHEK**, HMEC\n",
    "\n",
    "**[TargetFinder](https://www.ncbi.nlm.nih.gov/pmc/articles/PMC4910881/)** ➡ **GM12878**, **K562**, IMR90, HeLa-S3, **HUVEC**, **NHEK**\n",
    "\n",
    "**[Xin Zeng (2021)](https://www.frontiersin.org/articles/10.3389/fgene.2021.681259/full#B4)** ➡ **K562** (sequence length=500 in US_UU dataset) and [CAGE](https://academic.oup.com/genetics/article/211/4/1205/5931517) (sequence length=600 in CAGE dataset)"
   ]
  },
  {
   "cell_type": "code",
   "execution_count": 95,
   "metadata": {},
   "outputs": [],
   "source": [
    "import os\n",
    "import sys\n",
    "import random\n",
    "import re\n",
    "import numpy as np\n",
    "import pandas as pd\n",
    "import pickle as pkl\n",
    "from IPython.display import display\n",
    "from Bio import SeqIO\n",
    "from tqdm.notebook import tqdm"
   ]
  },
  {
   "cell_type": "code",
   "execution_count": 37,
   "metadata": {},
   "outputs": [],
   "source": [
    "def load_ep_pairs(cell_line):\n",
    "\n",
    "    ep_pairs = pd.read_csv('https://raw.githubusercontent.com/shwhalen/' \\\n",
    "                                   'targetfinder/master/paper/targetfinder/{}/' \\\n",
    "                                   'output-ep/pairs.csv'.format(cell_line))\n",
    "    ep_pairs = ep_pairs[ep_pairs['label'] == 1].reset_index(drop=True)\n",
    "    ep_pairs = ep_pairs[['enhancer_name', 'enhancer_chrom', 'enhancer_start', 'enhancer_end',\n",
    "                        'promoter_name', 'promoter_chrom', 'promoter_start', 'promoter_end', 'label']]\n",
    "    return ep_pairs"
   ]
  },
  {
   "cell_type": "code",
   "execution_count": 40,
   "metadata": {},
   "outputs": [],
   "source": [
    "def load_ep_sequences(cell_line):\n",
    "    # DOWNLOAD HUMAN GENOME v37 (3.2 Gb)\n",
    "    # Older version but compatible with genomic coordinates of TargetFinder dataset\n",
    "    # https://www.ncbi.nlm.nih.gov/projects/genome/guide/human/index.shtml\n",
    "    # https://github.com/shwhalen/targetfinder/tree/master/paper/targetfinder\n",
    "\n",
    "    print('Parsing GRCh37 genome...')\n",
    "    hg37 = SeqIO.to_dict(SeqIO.parse('data/GRCh37_latest_genomic.fna', 'fasta'))\n",
    "\n",
    "    RefSeqIDs = []\n",
    "\n",
    "    for k in hg37.keys():\n",
    "        if k.startswith('NC_0000'):\n",
    "            RefSeqIDs.append(hg37[k].id)\n",
    "\n",
    "    chromosomes = ['chr1', 'chr2', 'chr3', 'chr4', 'chr5', 'chr6', 'chr7', 'chr8', 'chr9', \\\n",
    "               'chr10', 'chr11', 'chr12', 'chr13', 'chr14', 'chr15', 'chr16', 'chr17', \\\n",
    "               'chr18', 'chr19', 'chr20', 'chr21', 'chr22', 'chrX', 'chrY']\n",
    "\n",
    "    RefSeqDict = {chromosomes[i]: RefSeqIDs[i] for i in range(len(chromosomes))}\n",
    "\n",
    "    enhancer_sequences = []\n",
    "    promoter_sequences = []\n",
    "    \n",
    "    print('Loading EP pairs for {} dataset...'.format(cell_line))\n",
    "    ep_pairs = load_ep_pairs(cell_line)\n",
    "    \n",
    "    n = len(ep_pairs)\n",
    "\n",
    "    print('Getting DNA sequences for {} EP pairs...'.format(n))\n",
    "\n",
    "    for i in range(n):\n",
    "        enhancer_seq_id = ep_pairs['enhancer_chrom'][i]\n",
    "        enhancer_seq_start = ep_pairs['enhancer_start'][i] - 1\n",
    "        enhancer_seq_end = ep_pairs['enhancer_end'][i]\n",
    "\n",
    "        promoter_seq_id = ep_pairs['promoter_chrom'][i]\n",
    "        promoter_seq_start = ep_pairs['promoter_start'][i] - 1\n",
    "        promoter_seq_end = ep_pairs['promoter_end'][i]\n",
    "        \n",
    "        enhancer_sequences.append(str(hg37[RefSeqDict[enhancer_seq_id]]\n",
    "                                    .seq[enhancer_seq_start:enhancer_seq_end]).upper())\n",
    "\n",
    "        promoter_sequences.append(str(hg37[RefSeqDict[promoter_seq_id]]\n",
    "                                    .seq[promoter_seq_start:promoter_seq_end]).upper())\n",
    "\n",
    "    ep_sequences = ep_pairs\n",
    "    ep_sequences['enhancer_seq'] = enhancer_sequences\n",
    "    ep_sequences['promoter_seq'] = promoter_sequences\n",
    "    \n",
    "    return ep_sequences"
   ]
  },
  {
   "cell_type": "code",
   "execution_count": 52,
   "metadata": {},
   "outputs": [
    {
     "name": "stdout",
     "output_type": "stream",
     "text": [
      "Parsing GRCh37 genome...\n",
      "Loading EP pairs for K562 dataset...\n",
      "Getting DNA sequences for 1977 EP pairs...\n",
      "1742 unique enhancers\n"
     ]
    }
   ],
   "source": [
    "ep_sequences_K562 = load_ep_sequences('K562')\n",
    "print(\"{} unique enhancers\".format(len(set(ep_sequences_K562['enhancer_name']))))"
   ]
  },
  {
   "cell_type": "code",
   "execution_count": 53,
   "metadata": {},
   "outputs": [
    {
     "name": "stdout",
     "output_type": "stream",
     "text": [
      "Parsing GRCh37 genome...\n",
      "Loading EP pairs for combined dataset...\n",
      "Getting DNA sequences for 7084 EP pairs...\n",
      "6493 unique enhancers\n"
     ]
    }
   ],
   "source": [
    "ep_sequences_combined = load_ep_sequences('combined')\n",
    "print(\"{} unique enhancers\".format(len(set(ep_sequences_combined['enhancer_name']))))"
   ]
  },
  {
   "cell_type": "code",
   "execution_count": 132,
   "metadata": {},
   "outputs": [],
   "source": [
    "def compare_sequences(ep_sequences, seq_type, fasta_file):\n",
    "\n",
    "    data = re.split(r'(^>.*)', ''.join(open(fasta_file).readlines()), flags=re.M)\n",
    "    fids = []\n",
    "    seqs = []\n",
    "    for i in range(2, len(data), 2):\n",
    "        fids.append(data[i-1][1:])\n",
    "        seqs.append(data[i].replace('\\n', '').replace(' ', '').upper())\n",
    "\n",
    "    ep_seq = ep_sequences.drop_duplicates(subset = seq_type + '_name', keep='first').reset_index()\n",
    "    \n",
    "    n_matches = 0\n",
    "\n",
    "\n",
    "    for fid in tqdm(fids):\n",
    "        subseq = seqs[fids.index(fid)]\n",
    "\n",
    "        match = ep_seq.loc[ep_seq[seq_type + '_seq'].str.contains(subseq)][seq_type + '_name']\n",
    "\n",
    "        if len(match) > 0:\n",
    "            n_matches = n_matches + 1 # len(match.values)\n",
    "            # for enh in match.values:\n",
    "                # print(fid, \"->\", enh)\n",
    "\n",
    "    print(\"{} out of {} -> {:.2f}%\".format(n_matches,len(fids), n_matches*100/len(fids)))"
   ]
  },
  {
   "cell_type": "markdown",
   "metadata": {},
   "source": [
    "# US_UU DATASET (1,884 US=Promoters + 4,978 UU=Enhancers)"
   ]
  },
  {
   "cell_type": "code",
   "execution_count": 128,
   "metadata": {},
   "outputs": [
    {
     "data": {
      "application/vnd.jupyter.widget-view+json": {
       "model_id": "025fbde1c6f24ca5b7e29581619c67d1",
       "version_major": 2,
       "version_minor": 0
      },
      "text/plain": [
       "HBox(children=(FloatProgress(value=0.0, max=4978.0), HTML(value='')))"
      ]
     },
     "metadata": {},
     "output_type": "display_data"
    },
    {
     "name": "stdout",
     "output_type": "stream",
     "text": [
      "\n",
      "37 out of 4978 -> 0.74%\n"
     ]
    }
   ],
   "source": [
    "compare_sequences(ep_sequences_K562, 'enhancer', 'data/compare_seq/K562_UU.fa')"
   ]
  },
  {
   "cell_type": "code",
   "execution_count": 129,
   "metadata": {},
   "outputs": [
    {
     "data": {
      "application/vnd.jupyter.widget-view+json": {
       "model_id": "869413dc96ac453cb2415be659c205e9",
       "version_major": 2,
       "version_minor": 0
      },
      "text/plain": [
       "HBox(children=(FloatProgress(value=0.0, max=1884.0), HTML(value='')))"
      ]
     },
     "metadata": {},
     "output_type": "display_data"
    },
    {
     "name": "stdout",
     "output_type": "stream",
     "text": [
      "\n",
      "113 out of 1884 -> 6.00%\n"
     ]
    }
   ],
   "source": [
    "compare_sequences(ep_sequences_K562, 'promoter', 'data/compare_seq/K562_US.fa')"
   ]
  },
  {
   "cell_type": "markdown",
   "metadata": {},
   "source": [
    "# CAGE dataset (38,538 enhancers + 27,227 promoters)"
   ]
  },
  {
   "cell_type": "code",
   "execution_count": 130,
   "metadata": {},
   "outputs": [
    {
     "data": {
      "application/vnd.jupyter.widget-view+json": {
       "model_id": "979952c693a84afaab6b90f8f1d34779",
       "version_major": 2,
       "version_minor": 0
      },
      "text/plain": [
       "HBox(children=(FloatProgress(value=0.0, max=38537.0), HTML(value='')))"
      ]
     },
     "metadata": {},
     "output_type": "display_data"
    },
    {
     "name": "stdout",
     "output_type": "stream",
     "text": [
      "\n",
      "237 out of 38537 -> 0.61%\n"
     ]
    }
   ],
   "source": [
    "compare_sequences(ep_sequences_combined, 'enhancer', 'data/compare_seq/fantom_enhancers_600.fa')"
   ]
  },
  {
   "cell_type": "code",
   "execution_count": 133,
   "metadata": {},
   "outputs": [
    {
     "data": {
      "application/vnd.jupyter.widget-view+json": {
       "model_id": "f85c69ed146049a18b8cb4e0ce8b9b4e",
       "version_major": 2,
       "version_minor": 0
      },
      "text/plain": [
       "HBox(children=(FloatProgress(value=0.0, max=27227.0), HTML(value='')))"
      ]
     },
     "metadata": {},
     "output_type": "display_data"
    },
    {
     "name": "stdout",
     "output_type": "stream",
     "text": [
      "\n",
      "1357 out of 27227 -> 4.98%\n"
     ]
    }
   ],
   "source": [
    "compare_sequences(ep_sequences_combined, 'promoter', 'data/compare_seq/fantom_promoters_600.fa')"
   ]
  },
  {
   "cell_type": "markdown",
   "metadata": {},
   "source": [
    "## iEnhancer-2L dataset (strong, weak, and non-enhancers)"
   ]
  },
  {
   "cell_type": "code",
   "execution_count": 131,
   "metadata": {},
   "outputs": [],
   "source": [
    "def compare_enhancers(ep_sequences, enh_class):\n",
    "\n",
    "    data = re.split(r'(^>.*)', ''.join(open('data/compare_seq/{}_enhancers.txt'.format(enh_class)).readlines()), flags=re.M)\n",
    "    fids = []\n",
    "    seqs = []\n",
    "    for i in range(2, len(data), 2):\n",
    "        fids.append(data[i-1][1:])\n",
    "        seqs.append(data[i].replace('\\n', '').replace(' ', '').upper())\n",
    "\n",
    "    ep_seq = ep_sequences.drop_duplicates(subset = 'enhancer_name', keep='first').reset_index()\n",
    "\n",
    "    n_matches = 0\n",
    "\n",
    "    for fid in tqdm(fids):\n",
    "        subseq = seqs[fids.index(fid)]\n",
    "\n",
    "        match = ep_seq.loc[ep_seq['enhancer_seq'].str.contains(subseq)]['enhancer_name'].values\n",
    "        if len(match) > 0:\n",
    "            n_matches = n_matches + 1 # len(match)\n",
    "            # for enh in match:\n",
    "                # print(fid, \"->\", enh)\n",
    "\n",
    "    print(\"{} enhancer\\n{} out of {} -> {:.2f}%\".format(enh_class, n_matches,\n",
    "                                                            len(fids), n_matches*100/len(fids)))"
   ]
  },
  {
   "cell_type": "code",
   "execution_count": 122,
   "metadata": {},
   "outputs": [
    {
     "data": {
      "application/vnd.jupyter.widget-view+json": {
       "model_id": "604ff60bf342418b96c7f7b8438887b2",
       "version_major": 2,
       "version_minor": 0
      },
      "text/plain": [
       "HBox(children=(FloatProgress(value=0.0, max=742.0), HTML(value='')))"
      ]
     },
     "metadata": {},
     "output_type": "display_data"
    },
    {
     "name": "stdout",
     "output_type": "stream",
     "text": [
      "\n",
      "strong enhancer\n",
      "18 out of 742 -> 2.43%\n"
     ]
    }
   ],
   "source": [
    "compare_enhancers(ep_sequences_combined, 'strong')"
   ]
  },
  {
   "cell_type": "code",
   "execution_count": 123,
   "metadata": {},
   "outputs": [
    {
     "data": {
      "application/vnd.jupyter.widget-view+json": {
       "model_id": "28f628749a0d4fcc87838d7d28003f14",
       "version_major": 2,
       "version_minor": 0
      },
      "text/plain": [
       "HBox(children=(FloatProgress(value=0.0, max=742.0), HTML(value='')))"
      ]
     },
     "metadata": {},
     "output_type": "display_data"
    },
    {
     "name": "stdout",
     "output_type": "stream",
     "text": [
      "\n",
      "weak enhancer\n",
      "0 out of 742 -> 0.00%\n"
     ]
    }
   ],
   "source": [
    "compare_enhancers(ep_sequences_combined, 'weak')"
   ]
  },
  {
   "cell_type": "code",
   "execution_count": 124,
   "metadata": {},
   "outputs": [
    {
     "data": {
      "application/vnd.jupyter.widget-view+json": {
       "model_id": "bedc06b30f94422a8c94878d21dc9cc8",
       "version_major": 2,
       "version_minor": 0
      },
      "text/plain": [
       "HBox(children=(FloatProgress(value=0.0, max=1484.0), HTML(value='')))"
      ]
     },
     "metadata": {},
     "output_type": "display_data"
    },
    {
     "name": "stdout",
     "output_type": "stream",
     "text": [
      "\n",
      "non enhancer\n",
      "0 out of 1484 -> 0.00%\n"
     ]
    }
   ],
   "source": [
    "compare_enhancers(ep_sequences_combined, 'non')"
   ]
  }
 ],
 "metadata": {
  "kernelspec": {
   "display_name": "Python 3",
   "language": "python",
   "name": "python3"
  },
  "language_info": {
   "codemirror_mode": {
    "name": "ipython",
    "version": 3
   },
   "file_extension": ".py",
   "mimetype": "text/x-python",
   "name": "python",
   "nbconvert_exporter": "python",
   "pygments_lexer": "ipython3",
   "version": "3.7.6"
  }
 },
 "nbformat": 4,
 "nbformat_minor": 5
}
