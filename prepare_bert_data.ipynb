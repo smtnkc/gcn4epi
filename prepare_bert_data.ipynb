{
 "cells": [
  {
   "cell_type": "code",
   "execution_count": 119,
   "metadata": {},
   "outputs": [],
   "source": [
    "import os\n",
    "import sys\n",
    "import random\n",
    "import numpy as np\n",
    "import pandas as pd\n",
    "import pickle as pkl\n",
    "import scipy.sparse as sp\n",
    "from Bio import SeqIO\n",
    "from IPython.display import display\n",
    "import statistics as st\n",
    "\n",
    "CELL_LINE = 'GM12878'"
   ]
  },
  {
   "cell_type": "code",
   "execution_count": 120,
   "metadata": {},
   "outputs": [],
   "source": [
    "def getPairs(cell_line):\n",
    "    \"\"\"\n",
    "        If your cell line is not available in TargetFinder repo,\n",
    "        Place your ep_pairs.csv file manually under your cell line directory.\n",
    "    \"\"\"\n",
    "    available_cell_lines = ['GM12878', 'HUVEC', 'HeLa-S3', 'IMR90', 'K562', 'NHEK', 'combined']\n",
    "\n",
    "    if cell_line not in available_cell_lines:\n",
    "        print('{} cell line is not in available.\\nSelect one of {}\\n' \\\n",
    "              'Or manually create gcn/data/{}/ep_pairs.csv'.format(cell_line, available_cell_lines, cell_line))\n",
    "        return None\n",
    "\n",
    "    if os.path.isfile('gcn/data/{}/ep_pairs.csv'.format(cell_line)):\n",
    "        print('Reading pairs from local file...')\n",
    "        ep_pairs = pd.read_csv('gcn/data/{}/ep_pairs.csv'.format(cell_line))\n",
    "    else:\n",
    "        print('Reading pairs from remote github repo...')\n",
    "        ep_pairs = pd.read_csv('https://raw.githubusercontent.com/shwhalen/' \\\n",
    "                               'targetfinder/master/paper/targetfinder/{}/' \\\n",
    "                               'output-ep/pairs.csv'.format(cell_line))\n",
    "        if not os.path.isdir('gcn/data/{}'.format(cell_line)):\n",
    "            print('Creating directory for {} cell line...'.format(cell_line))\n",
    "            os.makedirs('gcn/data/{}'.format(cell_line))\n",
    "        print('Writing pairs to data/{}/ep_pairs.csv'.format(cell_line))\n",
    "        ep_pairs.to_csv('gcn/data/{}/ep_pairs.csv'.format(cell_line), index=False)\n",
    "    return ep_pairs"
   ]
  },
  {
   "cell_type": "code",
   "execution_count": 121,
   "metadata": {},
   "outputs": [],
   "source": [
    "def getSequences(ep_pairs, hg):\n",
    "    RefSeqIDs = []\n",
    "\n",
    "    for k in hg37.keys():\n",
    "        if k.startswith('NC_0000'):\n",
    "            RefSeqIDs.append(hg37[k].id)\n",
    "\n",
    "    chromosomes = ['chr1', 'chr2', 'chr3', 'chr4', 'chr5', 'chr6', 'chr7', 'chr8', 'chr9', \\\n",
    "               'chr10', 'chr11', 'chr12', 'chr13', 'chr14', 'chr15', 'chr16', 'chr17', \\\n",
    "               'chr18', 'chr19', 'chr20', 'chr21', 'chr22', 'chrX', 'chrY']\n",
    "\n",
    "    RefSeqDict = {chromosomes[i]: RefSeqIDs[i] for i in range(len(chromosomes))}\n",
    "\n",
    "    enhancer_sequences = []\n",
    "    promoter_sequences = []\n",
    "    n = len(ep_pairs)\n",
    "\n",
    "    print('Getting DNA sequences for {} EP pairs...'.format(n))\n",
    "\n",
    "    for i in range(n):\n",
    "        enhancer_seq_id = ep_pairs['enhancer_chrom'][i]\n",
    "        enhancer_seq_start = ep_pairs['enhancer_start'][i] - 1\n",
    "        enhancer_seq_end = ep_pairs['enhancer_end'][i]\n",
    "\n",
    "        promoter_seq_id = ep_pairs['promoter_chrom'][i]\n",
    "        promoter_seq_start = ep_pairs['promoter_start'][i] - 1\n",
    "        promoter_seq_end = ep_pairs['promoter_end'][i]\n",
    "        \n",
    "        enhancer_sequences.append(str(hg37[RefSeqDict[enhancer_seq_id]]\n",
    "                                    .seq[enhancer_seq_start:enhancer_seq_end]).upper())\n",
    "\n",
    "        promoter_sequences.append(str(hg37[RefSeqDict[promoter_seq_id]]\n",
    "                                    .seq[promoter_seq_start:promoter_seq_end]).upper())\n",
    "\n",
    "    ep_sequences = pd.DataFrame({'enhancer_name': ep_pairs['enhancer_name'][0:n],\n",
    "                                 'promoter_name': ep_pairs['promoter_name'][0:n],\n",
    "                                 'enhancer_seq': enhancer_sequences,\n",
    "                                 'promoter_seq': promoter_sequences})\n",
    "    return ep_sequences"
   ]
  },
  {
   "cell_type": "code",
   "execution_count": 122,
   "metadata": {},
   "outputs": [],
   "source": [
    "# DOWNLOAD HUMAN GENOME v37 (3.2 Gb)\n",
    "# Older version but compatible with genomic coordinates of TargetFinder dataset\n",
    "# https://www.ncbi.nlm.nih.gov/projects/genome/guide/human/index.shtml\n",
    "# https://github.com/shwhalen/targetfinder/tree/master/paper/targetfinder\n",
    "\n",
    "try:\n",
    "    hg37\n",
    "except NameError:\n",
    "    print('Parsing GRCh37 genome...')\n",
    "    hg37 = SeqIO.to_dict(SeqIO.parse('gcn/data/GRCh37_latest_genomic.fna', 'fasta'))"
   ]
  },
  {
   "cell_type": "code",
   "execution_count": 123,
   "metadata": {},
   "outputs": [
    {
     "name": "stdout",
     "output_type": "stream",
     "text": [
      "Reading pairs from local file...\n",
      "44313 EP pairs have been read.\n",
      "2113 EP pairs are labeled as 1.\n",
      "Getting DNA sequences for 2113 EP pairs...\n"
     ]
    }
   ],
   "source": [
    "ep_pairs = getPairs(CELL_LINE)\n",
    "print('{} EP pairs have been read.'.format(len(ep_pairs)))\n",
    "\n",
    "ep_pairs = ep_pairs[ep_pairs['label'] == 1].reset_index() # Keep only the interacting pairs\n",
    "print('{} EP pairs are labeled as 1.'.format(len(ep_pairs)))\n",
    "\n",
    "ep_sequences = getSequences(ep_pairs, hg37)"
   ]
  },
  {
   "cell_type": "code",
   "execution_count": 124,
   "metadata": {},
   "outputs": [
    {
     "data": {
      "text/html": [
       "<div>\n",
       "<style scoped>\n",
       "    .dataframe tbody tr th:only-of-type {\n",
       "        vertical-align: middle;\n",
       "    }\n",
       "\n",
       "    .dataframe tbody tr th {\n",
       "        vertical-align: top;\n",
       "    }\n",
       "\n",
       "    .dataframe thead th {\n",
       "        text-align: right;\n",
       "    }\n",
       "</style>\n",
       "<table border=\"1\" class=\"dataframe\">\n",
       "  <thead>\n",
       "    <tr style=\"text-align: right;\">\n",
       "      <th></th>\n",
       "      <th>enhancer_name</th>\n",
       "      <th>promoter_name</th>\n",
       "      <th>enhancer_seq</th>\n",
       "      <th>promoter_seq</th>\n",
       "    </tr>\n",
       "  </thead>\n",
       "  <tbody>\n",
       "    <tr>\n",
       "      <th>0</th>\n",
       "      <td>GM12878|chr1:9685722-9686400</td>\n",
       "      <td>GM12878|chr1:9747084-9749721</td>\n",
       "      <td>TGACAGGCATGAGCCACCACGCCCGGCAGATTTTTCAAGATATAAT...</td>\n",
       "      <td>TTTTGCCATTTCAAAGAATCTTGGATTTTTCTCTGGGCTCCAGAGA...</td>\n",
       "    </tr>\n",
       "    <tr>\n",
       "      <th>1</th>\n",
       "      <td>GM12878|chr1:24136556-24136600</td>\n",
       "      <td>GM12878|chr1:24193468-24194871</td>\n",
       "      <td>GTGGCAACTGAGGCTAAGACCTGGAGCAGGGCAGCTGCTCTCAAG</td>\n",
       "      <td>TGAATTCAAAGTTCAAGAGAAACGAAAACCCGGAAGATGGCTGAGG...</td>\n",
       "    </tr>\n",
       "    <tr>\n",
       "      <th>2</th>\n",
       "      <td>GM12878|chr1:24136600-24136932</td>\n",
       "      <td>GM12878|chr1:24193468-24194871</td>\n",
       "      <td>GAAACAGTTGCTACTGTTACCATTCCACCTATCTGGATGCCACAAA...</td>\n",
       "      <td>TGAATTCAAAGTTCAAGAGAAACGAAAACCCGGAAGATGGCTGAGG...</td>\n",
       "    </tr>\n",
       "    <tr>\n",
       "      <th>3</th>\n",
       "      <td>GM12878|chr1:24137625-24137875</td>\n",
       "      <td>GM12878|chr1:24193468-24194871</td>\n",
       "      <td>GTGCCAGAGGAGCTGGGGCCAGTACTCCAAAAGGAGACCAAAGACT...</td>\n",
       "      <td>TGAATTCAAAGTTCAAGAGAAACGAAAACCCGGAAGATGGCTGAGG...</td>\n",
       "    </tr>\n",
       "    <tr>\n",
       "      <th>4</th>\n",
       "      <td>GM12878|chr1:24139145-24139414</td>\n",
       "      <td>GM12878|chr1:24193468-24194871</td>\n",
       "      <td>GCCCAGAGGCAAGAGTGGAGGCATGTGACAAACAGAAAGAAGTTCC...</td>\n",
       "      <td>TGAATTCAAAGTTCAAGAGAAACGAAAACCCGGAAGATGGCTGAGG...</td>\n",
       "    </tr>\n",
       "  </tbody>\n",
       "</table>\n",
       "</div>"
      ],
      "text/plain": [
       "                    enhancer_name                   promoter_name  \\\n",
       "0    GM12878|chr1:9685722-9686400    GM12878|chr1:9747084-9749721   \n",
       "1  GM12878|chr1:24136556-24136600  GM12878|chr1:24193468-24194871   \n",
       "2  GM12878|chr1:24136600-24136932  GM12878|chr1:24193468-24194871   \n",
       "3  GM12878|chr1:24137625-24137875  GM12878|chr1:24193468-24194871   \n",
       "4  GM12878|chr1:24139145-24139414  GM12878|chr1:24193468-24194871   \n",
       "\n",
       "                                        enhancer_seq  \\\n",
       "0  TGACAGGCATGAGCCACCACGCCCGGCAGATTTTTCAAGATATAAT...   \n",
       "1      GTGGCAACTGAGGCTAAGACCTGGAGCAGGGCAGCTGCTCTCAAG   \n",
       "2  GAAACAGTTGCTACTGTTACCATTCCACCTATCTGGATGCCACAAA...   \n",
       "3  GTGCCAGAGGAGCTGGGGCCAGTACTCCAAAAGGAGACCAAAGACT...   \n",
       "4  GCCCAGAGGCAAGAGTGGAGGCATGTGACAAACAGAAAGAAGTTCC...   \n",
       "\n",
       "                                        promoter_seq  \n",
       "0  TTTTGCCATTTCAAAGAATCTTGGATTTTTCTCTGGGCTCCAGAGA...  \n",
       "1  TGAATTCAAAGTTCAAGAGAAACGAAAACCCGGAAGATGGCTGAGG...  \n",
       "2  TGAATTCAAAGTTCAAGAGAAACGAAAACCCGGAAGATGGCTGAGG...  \n",
       "3  TGAATTCAAAGTTCAAGAGAAACGAAAACCCGGAAGATGGCTGAGG...  \n",
       "4  TGAATTCAAAGTTCAAGAGAAACGAAAACCCGGAAGATGGCTGAGG...  "
      ]
     },
     "metadata": {},
     "output_type": "display_data"
    }
   ],
   "source": [
    "display(ep_sequences.head())"
   ]
  },
  {
   "cell_type": "code",
   "execution_count": 125,
   "metadata": {},
   "outputs": [],
   "source": [
    "enh_seqs = []\n",
    "pro_seqs = []\n",
    "\n",
    "for i in range(len(ep_sequences)):\n",
    "    enh_seqs.append(ep_sequences['enhancer_seq'][i])\n",
    "    pro_seqs.append(ep_sequences['promoter_seq'][i])\n",
    "    \n",
    "enh_seqs = list(set(enh_seqs))\n",
    "pro_seqs = list(set(pro_seqs))\n",
    "\n",
    "enh_lengths = []\n",
    "pro_lengths = []\n",
    "\n",
    "for i in range(len(enh_seqs)):\n",
    "    enh_lengths.append(len(enh_seqs[i]))\n",
    "\n",
    "for i in range(len(pro_seqs)):\n",
    "    pro_lengths.append(len(pro_seqs[i]))"
   ]
  },
  {
   "cell_type": "code",
   "execution_count": 126,
   "metadata": {},
   "outputs": [
    {
     "name": "stdout",
     "output_type": "stream",
     "text": [
      "1932 unique enhancers\n",
      "736 unique promoters\n",
      "\n",
      "Enhancer lengths between 6 - 6670\n",
      "Promoter lengths between 119 - 18209\n"
     ]
    }
   ],
   "source": [
    "print(len(enh_seqs), \"unique enhancers\")\n",
    "print(len(pro_seqs), \"unique promoters\\n\")\n",
    "\n",
    "print(\"Enhancer lengths between\", min(enh_lengths), '-', max(enh_lengths))\n",
    "print(\"Promoter lengths between\", min(pro_lengths), '-', max(pro_lengths))"
   ]
  },
  {
   "cell_type": "code",
   "execution_count": 127,
   "metadata": {},
   "outputs": [
    {
     "name": "stdout",
     "output_type": "stream",
     "text": [
      "Shortest enhancer -> CTCTGT\n"
     ]
    }
   ],
   "source": [
    "min_index = enh_lengths.index(min(enh_lengths))\n",
    "print(\"Shortest enhancer ->\", enh_seqs[min_index])"
   ]
  },
  {
   "cell_type": "code",
   "execution_count": 133,
   "metadata": {},
   "outputs": [
    {
     "name": "stdout",
     "output_type": "stream",
     "text": [
      "553.7 mean enhancer length\n",
      "2633.2 mean promoter length\n",
      "278.0 median enhancer length\n",
      "2128.0 median promoter length\n"
     ]
    }
   ],
   "source": [
    "print('{:.1f}'.format(st.mean(enh_lengths)), \"mean enhancer length\")\n",
    "print('{:.1f}'.format(st.mean(pro_lengths)), \"mean promoter length\")\n",
    "\n",
    "print('{:.1f}'.format(st.median(enh_lengths)), \"median enhancer length\")\n",
    "print('{:.1f}'.format(st.median(pro_lengths)), \"median promoter length\")"
   ]
  },
  {
   "cell_type": "code",
   "execution_count": 129,
   "metadata": {},
   "outputs": [
    {
     "name": "stdout",
     "output_type": "stream",
     "text": [
      "1228 enhancers with length >= 200\n",
      "732 promoters with length >= 200\n"
     ]
    }
   ],
   "source": [
    "print(len(list(filter(lambda length: length >= 200, enh_lengths))), \"enhancers with length >= 200\")\n",
    "print(len(list(filter(lambda length: length >= 200, pro_lengths))), \"promoters with length >= 200\")"
   ]
  },
  {
   "cell_type": "markdown",
   "metadata": {},
   "source": [
    "### FIX THE SEQUENCE LENGTHS\n",
    "\n",
    "See iEnhancer-2L paper [ https://academic.oup.com/bioinformatics/article/32/3/362/1744331 ]"
   ]
  },
  {
   "cell_type": "code",
   "execution_count": 134,
   "metadata": {},
   "outputs": [],
   "source": [
    "# Divide enhancers and promoters into 200bp DNA fragments\n",
    "# Remove fragments with length < 200bp\n",
    "# Remove fragments with high sequence similarity (cutoff threshold at 80%)"
   ]
  },
  {
   "cell_type": "code",
   "execution_count": 162,
   "metadata": {},
   "outputs": [],
   "source": [
    "enh_fragments = []\n",
    "for seq in enh_seqs:\n",
    "    remained_seq = seq\n",
    "    while len(remained_seq) >= 200:\n",
    "        enh_fragments.append(remained_seq[:200])\n",
    "        remained_seq = remained_seq[200:]\n",
    "\n",
    "pro_fragments = []\n",
    "for seq in pro_seqs:\n",
    "    remained_seq = seq\n",
    "    while len(remained_seq) >= 200:\n",
    "        pro_fragments.append(remained_seq[:200])\n",
    "        remained_seq = remained_seq[200:]"
   ]
  },
  {
   "cell_type": "code",
   "execution_count": 165,
   "metadata": {},
   "outputs": [
    {
     "name": "stdout",
     "output_type": "stream",
     "text": [
      "4472 enhancer fragments of 200bp\n",
      "9319 promoter fragments of 200bp\n"
     ]
    }
   ],
   "source": [
    "print(len(enh_fragments), \"enhancer fragments of 200bp\")\n",
    "print(len(pro_fragments), \"promoter fragments of 200bp\")"
   ]
  },
  {
   "cell_type": "code",
   "execution_count": 166,
   "metadata": {},
   "outputs": [],
   "source": [
    "# CD-HIT or other method to remove highly similar sequences to get rid of redundancy and avoid bias "
   ]
  }
 ],
 "metadata": {
  "kernelspec": {
   "display_name": "Python 3",
   "language": "python",
   "name": "python3"
  },
  "language_info": {
   "codemirror_mode": {
    "name": "ipython",
    "version": 3
   },
   "file_extension": ".py",
   "mimetype": "text/x-python",
   "name": "python",
   "nbconvert_exporter": "python",
   "pygments_lexer": "ipython3",
   "version": "3.7.6"
  }
 },
 "nbformat": 4,
 "nbformat_minor": 4
}
