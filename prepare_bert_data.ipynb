{
 "cells": [
  {
   "cell_type": "code",
   "execution_count": 1,
   "metadata": {},
   "outputs": [],
   "source": [
    "import os\n",
    "import sys\n",
    "import random\n",
    "import numpy as np\n",
    "import pandas as pd\n",
    "from sklearn.model_selection import train_test_split\n",
    "from IPython.display import display\n",
    "import statistics as st"
   ]
  },
  {
   "cell_type": "code",
   "execution_count": 77,
   "metadata": {},
   "outputs": [],
   "source": [
    "CELL_LINE = 'combined' # GM12878, HUVEC, HeLa-S3, IMR90, K562, NHEK, combined"
   ]
  },
  {
   "cell_type": "code",
   "execution_count": 78,
   "metadata": {},
   "outputs": [
    {
     "data": {
      "text/html": [
       "<div>\n",
       "<style scoped>\n",
       "    .dataframe tbody tr th:only-of-type {\n",
       "        vertical-align: middle;\n",
       "    }\n",
       "\n",
       "    .dataframe tbody tr th {\n",
       "        vertical-align: top;\n",
       "    }\n",
       "\n",
       "    .dataframe thead th {\n",
       "        text-align: right;\n",
       "    }\n",
       "</style>\n",
       "<table border=\"1\" class=\"dataframe\">\n",
       "  <thead>\n",
       "    <tr style=\"text-align: right;\">\n",
       "      <th></th>\n",
       "      <th>enhancer_name</th>\n",
       "      <th>enhancer_frag_name</th>\n",
       "      <th>enhancer_frag_seq</th>\n",
       "      <th>promoter_name</th>\n",
       "      <th>promoter_frag_name</th>\n",
       "      <th>promoter_frag_seq</th>\n",
       "    </tr>\n",
       "  </thead>\n",
       "  <tbody>\n",
       "    <tr>\n",
       "      <th>0</th>\n",
       "      <td>K562|chr1:16399567-16400081</td>\n",
       "      <td>K562|chr1:16399567-16399767</td>\n",
       "      <td>CGCAGTTCCTCCGGGAAGCCAGGAAGAACCAGAGCTGGTTCCCAGG...</td>\n",
       "      <td>K562|chr1:16677563-16679703</td>\n",
       "      <td>K562|chr1:16677563-16677763</td>\n",
       "      <td>ATGGTACTTCCCCCAAATTTTCCTTGCCTCTTTAAATCCATGATGT...</td>\n",
       "    </tr>\n",
       "    <tr>\n",
       "      <th>1</th>\n",
       "      <td>K562|chr1:16399567-16400081</td>\n",
       "      <td>K562|chr1:16399567-16399767</td>\n",
       "      <td>CGCAGTTCCTCCGGGAAGCCAGGAAGAACCAGAGCTGGTTCCCAGG...</td>\n",
       "      <td>K562|chr1:16677563-16679703</td>\n",
       "      <td>K562|chr1:16677763-16677963</td>\n",
       "      <td>TACATGACAGAAACACAATCGAAGTCTCCCAATTAGCATTTAAACA...</td>\n",
       "    </tr>\n",
       "    <tr>\n",
       "      <th>2</th>\n",
       "      <td>K562|chr1:16399567-16400081</td>\n",
       "      <td>K562|chr1:16399567-16399767</td>\n",
       "      <td>CGCAGTTCCTCCGGGAAGCCAGGAAGAACCAGAGCTGGTTCCCAGG...</td>\n",
       "      <td>K562|chr1:16677563-16679703</td>\n",
       "      <td>K562|chr1:16677963-16678163</td>\n",
       "      <td>GCTTTTATTTTCCTAACAGAAATCGGGAGATTTAACAGACAAAGCA...</td>\n",
       "    </tr>\n",
       "    <tr>\n",
       "      <th>3</th>\n",
       "      <td>K562|chr1:16399567-16400081</td>\n",
       "      <td>K562|chr1:16399567-16399767</td>\n",
       "      <td>CGCAGTTCCTCCGGGAAGCCAGGAAGAACCAGAGCTGGTTCCCAGG...</td>\n",
       "      <td>K562|chr1:16677563-16679703</td>\n",
       "      <td>K562|chr1:16678163-16678363</td>\n",
       "      <td>CAAGAGAAGCCTTCCACAGTCACAGCATGGATTGCTGTCTCAAGCA...</td>\n",
       "    </tr>\n",
       "    <tr>\n",
       "      <th>4</th>\n",
       "      <td>K562|chr1:16399567-16400081</td>\n",
       "      <td>K562|chr1:16399567-16399767</td>\n",
       "      <td>CGCAGTTCCTCCGGGAAGCCAGGAAGAACCAGAGCTGGTTCCCAGG...</td>\n",
       "      <td>K562|chr1:16677563-16679703</td>\n",
       "      <td>K562|chr1:16678363-16678563</td>\n",
       "      <td>TTGATGGGCACCCGACCCCCGACTCCTCTCTCGCAAAGGAGTGAAA...</td>\n",
       "    </tr>\n",
       "    <tr>\n",
       "      <th>...</th>\n",
       "      <td>...</td>\n",
       "      <td>...</td>\n",
       "      <td>...</td>\n",
       "      <td>...</td>\n",
       "      <td>...</td>\n",
       "      <td>...</td>\n",
       "    </tr>\n",
       "    <tr>\n",
       "      <th>121104</th>\n",
       "      <td>IMR90|chrX:109084400-109085400</td>\n",
       "      <td>IMR90|chrX:109084800-109085000</td>\n",
       "      <td>CAATCTTTTCCTTCCACAGCAGACATTCTGACATGTAGCTCTCAGT...</td>\n",
       "      <td>IMR90|chrX:108976400-108976800</td>\n",
       "      <td>IMR90|chrX:108976600-108976800</td>\n",
       "      <td>GTGGCAGAGCCAGCCGAATCGCTGGCTGCAGACGGCTCGGCCCACC...</td>\n",
       "    </tr>\n",
       "    <tr>\n",
       "      <th>121105</th>\n",
       "      <td>IMR90|chrX:109084400-109085400</td>\n",
       "      <td>IMR90|chrX:109085000-109085200</td>\n",
       "      <td>TTTCAAAAGCTCCTTGGAAAAAAAATGCTATCTGTGGCTTGGATTT...</td>\n",
       "      <td>IMR90|chrX:108976400-108976800</td>\n",
       "      <td>IMR90|chrX:108976400-108976600</td>\n",
       "      <td>GCCGGCGCCTGGCACTCGGAAAGCTCGCAAAAAGGAACCGCGTGCC...</td>\n",
       "    </tr>\n",
       "    <tr>\n",
       "      <th>121106</th>\n",
       "      <td>IMR90|chrX:109084400-109085400</td>\n",
       "      <td>IMR90|chrX:109085000-109085200</td>\n",
       "      <td>TTTCAAAAGCTCCTTGGAAAAAAAATGCTATCTGTGGCTTGGATTT...</td>\n",
       "      <td>IMR90|chrX:108976400-108976800</td>\n",
       "      <td>IMR90|chrX:108976600-108976800</td>\n",
       "      <td>GTGGCAGAGCCAGCCGAATCGCTGGCTGCAGACGGCTCGGCCCACC...</td>\n",
       "    </tr>\n",
       "    <tr>\n",
       "      <th>121107</th>\n",
       "      <td>IMR90|chrX:109084400-109085400</td>\n",
       "      <td>IMR90|chrX:109085200-109085400</td>\n",
       "      <td>AGGGACAGTATACAAATTTTGAACTTAAAGAAAAGTTTTTGGTAAG...</td>\n",
       "      <td>IMR90|chrX:108976400-108976800</td>\n",
       "      <td>IMR90|chrX:108976400-108976600</td>\n",
       "      <td>GCCGGCGCCTGGCACTCGGAAAGCTCGCAAAAAGGAACCGCGTGCC...</td>\n",
       "    </tr>\n",
       "    <tr>\n",
       "      <th>121108</th>\n",
       "      <td>IMR90|chrX:109084400-109085400</td>\n",
       "      <td>IMR90|chrX:109085200-109085400</td>\n",
       "      <td>AGGGACAGTATACAAATTTTGAACTTAAAGAAAAGTTTTTGGTAAG...</td>\n",
       "      <td>IMR90|chrX:108976400-108976800</td>\n",
       "      <td>IMR90|chrX:108976600-108976800</td>\n",
       "      <td>GTGGCAGAGCCAGCCGAATCGCTGGCTGCAGACGGCTCGGCCCACC...</td>\n",
       "    </tr>\n",
       "  </tbody>\n",
       "</table>\n",
       "<p>121109 rows × 6 columns</p>\n",
       "</div>"
      ],
      "text/plain": [
       "                         enhancer_name              enhancer_frag_name  \\\n",
       "0          K562|chr1:16399567-16400081     K562|chr1:16399567-16399767   \n",
       "1          K562|chr1:16399567-16400081     K562|chr1:16399567-16399767   \n",
       "2          K562|chr1:16399567-16400081     K562|chr1:16399567-16399767   \n",
       "3          K562|chr1:16399567-16400081     K562|chr1:16399567-16399767   \n",
       "4          K562|chr1:16399567-16400081     K562|chr1:16399567-16399767   \n",
       "...                                ...                             ...   \n",
       "121104  IMR90|chrX:109084400-109085400  IMR90|chrX:109084800-109085000   \n",
       "121105  IMR90|chrX:109084400-109085400  IMR90|chrX:109085000-109085200   \n",
       "121106  IMR90|chrX:109084400-109085400  IMR90|chrX:109085000-109085200   \n",
       "121107  IMR90|chrX:109084400-109085400  IMR90|chrX:109085200-109085400   \n",
       "121108  IMR90|chrX:109084400-109085400  IMR90|chrX:109085200-109085400   \n",
       "\n",
       "                                        enhancer_frag_seq  \\\n",
       "0       CGCAGTTCCTCCGGGAAGCCAGGAAGAACCAGAGCTGGTTCCCAGG...   \n",
       "1       CGCAGTTCCTCCGGGAAGCCAGGAAGAACCAGAGCTGGTTCCCAGG...   \n",
       "2       CGCAGTTCCTCCGGGAAGCCAGGAAGAACCAGAGCTGGTTCCCAGG...   \n",
       "3       CGCAGTTCCTCCGGGAAGCCAGGAAGAACCAGAGCTGGTTCCCAGG...   \n",
       "4       CGCAGTTCCTCCGGGAAGCCAGGAAGAACCAGAGCTGGTTCCCAGG...   \n",
       "...                                                   ...   \n",
       "121104  CAATCTTTTCCTTCCACAGCAGACATTCTGACATGTAGCTCTCAGT...   \n",
       "121105  TTTCAAAAGCTCCTTGGAAAAAAAATGCTATCTGTGGCTTGGATTT...   \n",
       "121106  TTTCAAAAGCTCCTTGGAAAAAAAATGCTATCTGTGGCTTGGATTT...   \n",
       "121107  AGGGACAGTATACAAATTTTGAACTTAAAGAAAAGTTTTTGGTAAG...   \n",
       "121108  AGGGACAGTATACAAATTTTGAACTTAAAGAAAAGTTTTTGGTAAG...   \n",
       "\n",
       "                         promoter_name              promoter_frag_name  \\\n",
       "0          K562|chr1:16677563-16679703     K562|chr1:16677563-16677763   \n",
       "1          K562|chr1:16677563-16679703     K562|chr1:16677763-16677963   \n",
       "2          K562|chr1:16677563-16679703     K562|chr1:16677963-16678163   \n",
       "3          K562|chr1:16677563-16679703     K562|chr1:16678163-16678363   \n",
       "4          K562|chr1:16677563-16679703     K562|chr1:16678363-16678563   \n",
       "...                                ...                             ...   \n",
       "121104  IMR90|chrX:108976400-108976800  IMR90|chrX:108976600-108976800   \n",
       "121105  IMR90|chrX:108976400-108976800  IMR90|chrX:108976400-108976600   \n",
       "121106  IMR90|chrX:108976400-108976800  IMR90|chrX:108976600-108976800   \n",
       "121107  IMR90|chrX:108976400-108976800  IMR90|chrX:108976400-108976600   \n",
       "121108  IMR90|chrX:108976400-108976800  IMR90|chrX:108976600-108976800   \n",
       "\n",
       "                                        promoter_frag_seq  \n",
       "0       ATGGTACTTCCCCCAAATTTTCCTTGCCTCTTTAAATCCATGATGT...  \n",
       "1       TACATGACAGAAACACAATCGAAGTCTCCCAATTAGCATTTAAACA...  \n",
       "2       GCTTTTATTTTCCTAACAGAAATCGGGAGATTTAACAGACAAAGCA...  \n",
       "3       CAAGAGAAGCCTTCCACAGTCACAGCATGGATTGCTGTCTCAAGCA...  \n",
       "4       TTGATGGGCACCCGACCCCCGACTCCTCTCTCGCAAAGGAGTGAAA...  \n",
       "...                                                   ...  \n",
       "121104  GTGGCAGAGCCAGCCGAATCGCTGGCTGCAGACGGCTCGGCCCACC...  \n",
       "121105  GCCGGCGCCTGGCACTCGGAAAGCTCGCAAAAAGGAACCGCGTGCC...  \n",
       "121106  GTGGCAGAGCCAGCCGAATCGCTGGCTGCAGACGGCTCGGCCCACC...  \n",
       "121107  GCCGGCGCCTGGCACTCGGAAAGCTCGCAAAAAGGAACCGCGTGCC...  \n",
       "121108  GTGGCAGAGCCAGCCGAATCGCTGGCTGCAGACGGCTCGGCCCACC...  \n",
       "\n",
       "[121109 rows x 6 columns]"
      ]
     },
     "metadata": {},
     "output_type": "display_data"
    }
   ],
   "source": [
    "ep_sequences = pd.read_csv('gcn/data/{}/frag_pairs_balanced.csv'.format(CELL_LINE))\n",
    "display(ep_sequences)"
   ]
  },
  {
   "cell_type": "code",
   "execution_count": 79,
   "metadata": {},
   "outputs": [
    {
     "name": "stdout",
     "output_type": "stream",
     "text": [
      "3079 unique enhancers\n",
      "9903 unique enhancer frags\n",
      "1010 unique promoters\n",
      "9903 unique promoter frags\n"
     ]
    }
   ],
   "source": [
    "print(len(set(ep_sequences['enhancer_name'])), 'unique enhancers')\n",
    "print(len(set(ep_sequences['enhancer_frag_name'])), 'unique enhancer frags')\n",
    "print(len(set(ep_sequences['promoter_name'])), 'unique promoters')\n",
    "print(len(set(ep_sequences['promoter_frag_name'])), 'unique promoter frags')"
   ]
  },
  {
   "cell_type": "code",
   "execution_count": 80,
   "metadata": {},
   "outputs": [],
   "source": [
    "ep_sequences = ep_sequences[['enhancer_frag_name','enhancer_frag_seq','promoter_frag_name','promoter_frag_seq']]\n",
    "ep_sequences.columns = ['enhancer_name','enhancer_seq','promoter_name','promoter_seq']"
   ]
  },
  {
   "cell_type": "markdown",
   "metadata": {},
   "source": [
    "# TRAIN (cv) and TEST (ind) SPLIT"
   ]
  },
  {
   "cell_type": "code",
   "execution_count": 81,
   "metadata": {},
   "outputs": [
    {
     "name": "stdout",
     "output_type": "stream",
     "text": [
      "8912 train fragments and 991 test fragments\n"
     ]
    }
   ],
   "source": [
    "df_enh_frags = ep_sequences.drop_duplicates(subset=['enhancer_name'])[['enhancer_name', 'enhancer_seq']].reset_index(drop=True)\n",
    "df_pro_frags = ep_sequences.drop_duplicates(subset=['promoter_name'])[['promoter_name', 'promoter_seq']].reset_index(drop=True)\n",
    "\n",
    "df_enh_cv, df_enh_ind = train_test_split(df_enh_frags, test_size=0.1, random_state=42)\n",
    "df_pro_cv, df_pro_ind = train_test_split(df_pro_frags, test_size=0.1, random_state=42)\n",
    "\n",
    "df_enh_cv = df_enh_cv.reset_index(drop=True)\n",
    "df_enh_ind = df_enh_ind.reset_index(drop=True)\n",
    "df_pro_cv = df_pro_cv.reset_index(drop=True)\n",
    "df_pro_ind = df_pro_ind.reset_index(drop=True)\n",
    "\n",
    "print(len(df_enh_cv), 'train fragments and', len(df_enh_ind), 'test fragments')"
   ]
  },
  {
   "cell_type": "markdown",
   "metadata": {},
   "source": [
    "# WRITE AS FASTA FILES (for bert-enhancer)"
   ]
  },
  {
   "cell_type": "code",
   "execution_count": 82,
   "metadata": {},
   "outputs": [],
   "source": [
    "isExist = os.path.exists('bert/data/{}'.format(CELL_LINE))\n",
    "if not isExist:\n",
    "    os.makedirs('bert/data/{}'.format(CELL_LINE))"
   ]
  },
  {
   "cell_type": "code",
   "execution_count": 83,
   "metadata": {},
   "outputs": [],
   "source": [
    "lines = []\n",
    "for i in range(len(df_enh_cv)):\n",
    "    lines.append('>' + df_enh_cv['enhancer_name'][i])\n",
    "    lines.append(df_enh_cv['enhancer_seq'][i])\n",
    "\n",
    "open('bert/data/{}/enhancer.cv.txt'.format(CELL_LINE), 'w').close()\n",
    "\n",
    "with open('bert/data/{}/enhancer.cv.txt'.format(CELL_LINE), 'w') as f:\n",
    "    f.write('\\n'.join(lines))"
   ]
  },
  {
   "cell_type": "code",
   "execution_count": 84,
   "metadata": {},
   "outputs": [],
   "source": [
    "lines = []\n",
    "for i in range(len(df_pro_cv)):\n",
    "    lines.append('>' + df_pro_cv['promoter_name'][i])\n",
    "    lines.append(df_pro_cv['promoter_seq'][i])\n",
    "\n",
    "open('bert/data/{}/promoter.cv.txt'.format(CELL_LINE), 'w').close()\n",
    "\n",
    "with open('bert/data/{}/promoter.cv.txt'.format(CELL_LINE), 'w') as f:\n",
    "    f.write('\\n'.join(lines))"
   ]
  },
  {
   "cell_type": "code",
   "execution_count": 85,
   "metadata": {},
   "outputs": [],
   "source": [
    "lines = []\n",
    "for i in range(len(df_enh_ind)):\n",
    "    lines.append('>' + df_enh_ind['enhancer_name'][i])\n",
    "    lines.append(df_enh_ind['enhancer_seq'][i])\n",
    "\n",
    "open('bert/data/{}/enhancer.ind.txt'.format(CELL_LINE), 'w').close()\n",
    "\n",
    "with open('bert/data/{}/enhancer.ind.txt'.format(CELL_LINE), 'w') as f:\n",
    "    f.write('\\n'.join(lines))"
   ]
  },
  {
   "cell_type": "code",
   "execution_count": 86,
   "metadata": {},
   "outputs": [],
   "source": [
    "lines = []\n",
    "for i in range(len(df_pro_ind)):\n",
    "    lines.append('>' + df_pro_ind['promoter_name'][i])\n",
    "    lines.append(df_pro_ind['promoter_seq'][i])\n",
    "\n",
    "open('bert/data/{}/promoter.ind.txt'.format(CELL_LINE), 'w').close()\n",
    "\n",
    "with open('bert/data/{}/promoter.ind.txt'.format(CELL_LINE), 'w') as f:\n",
    "    f.write('\\n'.join(lines))"
   ]
  },
  {
   "cell_type": "code",
   "execution_count": 87,
   "metadata": {},
   "outputs": [],
   "source": [
    "lines = []\n",
    "for i in range(len(df_enh_frags)):\n",
    "    lines.append('>' + df_enh_frags['enhancer_name'][i])\n",
    "    lines.append(df_enh_frags['enhancer_seq'][i])\n",
    "\n",
    "open('bert/data/{}/enhancer.all.txt'.format(CELL_LINE), 'w').close()\n",
    "\n",
    "with open('bert/data/{}/enhancer.all.txt'.format(CELL_LINE), 'w') as f:\n",
    "    f.write('\\n'.join(lines))"
   ]
  },
  {
   "cell_type": "code",
   "execution_count": 88,
   "metadata": {},
   "outputs": [],
   "source": [
    "lines = []\n",
    "for i in range(len(df_pro_frags)):\n",
    "    lines.append('>' + df_pro_frags['promoter_name'][i])\n",
    "    lines.append(df_pro_frags['promoter_seq'][i])\n",
    "\n",
    "open('bert/data/{}/promoter.all.txt'.format(CELL_LINE), 'w').close()\n",
    "\n",
    "with open('bert/data/{}/promoter.all.txt'.format(CELL_LINE), 'w') as f:\n",
    "    f.write('\\n'.join(lines))"
   ]
  }
 ],
 "metadata": {
  "kernelspec": {
   "display_name": "Python 3 (ipykernel)",
   "language": "python",
   "name": "python3"
  },
  "language_info": {
   "codemirror_mode": {
    "name": "ipython",
    "version": 3
   },
   "file_extension": ".py",
   "mimetype": "text/x-python",
   "name": "python",
   "nbconvert_exporter": "python",
   "pygments_lexer": "ipython3",
   "version": "3.7.6"
  }
 },
 "nbformat": 4,
 "nbformat_minor": 4
}
