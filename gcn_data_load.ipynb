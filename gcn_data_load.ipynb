{
 "cells": [
  {
   "cell_type": "code",
   "execution_count": 25,
   "metadata": {},
   "outputs": [],
   "source": [
    "import sys\n",
    "import random\n",
    "import numpy as np\n",
    "import pandas as pd\n",
    "import pickle as pkl\n",
    "import networkx as nx\n",
    "import scipy.sparse as sp\n",
    "from scipy.sparse.linalg.eigen.arpack import eigsh\n",
    "from sklearn.feature_extraction.text import TfidfVectorizer\n",
    "from sklearn.model_selection import train_test_split\n",
    "\n",
    "SEED = 42\n",
    "random.seed(SEED)\n",
    "CELL_LINE = 'GM12878'\n",
    "K_MER = 5\n",
    "TEST_EID = 981 # arbitrary enhancer id to be used tests"
   ]
  },
  {
   "cell_type": "code",
   "execution_count": 13,
   "metadata": {},
   "outputs": [],
   "source": [
    "def sample_mask(idx, l):\n",
    "    \"\"\"Create mask.\"\"\"\n",
    "    mask = np.zeros(l)\n",
    "    mask[idx] = 1\n",
    "    return np.array(mask, dtype=np.bool)"
   ]
  },
  {
   "cell_type": "code",
   "execution_count": 20,
   "metadata": {},
   "outputs": [],
   "source": [
    "def load_data(dataset_name):\n",
    "    \n",
    "    # STEP 1: Load all feature vectors, class labels and graph\n",
    "    features_file = open('data/{}/features'.format(CELL_LINE), \"rb\")\n",
    "    loaded_features = pkl.load(features_file)\n",
    "    features_file.close()\n",
    "\n",
    "    labels_file = open('data/{}/labels'.format(CELL_LINE), \"rb\")\n",
    "    loaded_labels = pkl.load(labels_file)\n",
    "    labels_file.close()\n",
    "    \n",
    "    graph_file = open('data/{}/graph'.format(CELL_LINE), \"rb\")\n",
    "    loaded_graph = pkl.load(graph_file)\n",
    "    graph_file.close()\n",
    "\n",
    "    loaded_adj = nx.adjacency_matrix(nx.from_dict_of_lists(loaded_graph))\n",
    "\n",
    "    # STEP 2: Load IDs of labeled_train/unlabeled_train/validation/test nodes\n",
    "    idx_x_file = open('data/{}/x.index'.format(CELL_LINE), \"rb\")\n",
    "    loaded_idx_x = pkl.load(idx_x_file)\n",
    "    idx_x_file.close()\n",
    "\n",
    "    idx_ux_file = open('data/{}/ux.index'.format(CELL_LINE), \"rb\")\n",
    "    loaded_idx_ux = pkl.load(idx_ux_file)\n",
    "    idx_ux_file.close()\n",
    "\n",
    "    idx_vx_file = open('data/{}/vx.index'.format(CELL_LINE), \"rb\")\n",
    "    loaded_idx_vx = pkl.load(idx_vx_file)\n",
    "    idx_vx_file.close()\n",
    "\n",
    "    idx_tx_file = open('data/{}/tx.index'.format(CELL_LINE), \"rb\")\n",
    "    loaded_idx_tx = pkl.load(idx_tx_file)\n",
    "    idx_tx_file.close()\n",
    "\n",
    "    # STEP 3: Take subsets from loaded features and class labels using loaded IDs\n",
    "    loaded_x = loaded_features[loaded_idx_x]\n",
    "    loaded_y = loaded_labels[loaded_idx_x]\n",
    "\n",
    "    loaded_ux = loaded_features[loaded_idx_ux]\n",
    "    loaded_uy = loaded_labels[loaded_idx_ux]\n",
    "\n",
    "    loaded_vx = loaded_features[loaded_idx_vx]\n",
    "    loaded_vy = loaded_labels[loaded_idx_vx]\n",
    "\n",
    "    loaded_tx = loaded_features[loaded_idx_tx]\n",
    "    loaded_ty = loaded_labels[loaded_idx_tx]\n",
    "    \n",
    "    # STEP 4: MASK LABELS\n",
    "    train_mask = sample_mask(loaded_idx_x, loaded_labels.shape[0])\n",
    "    val_mask = sample_mask(loaded_idx_vx, loaded_labels.shape[0])\n",
    "    test_mask = sample_mask(loaded_idx_tx, loaded_labels.shape[0])\n",
    "\n",
    "    y_train = np.zeros(loaded_labels.shape)\n",
    "    y_val = np.zeros(loaded_labels.shape)\n",
    "    y_test = np.zeros(loaded_labels.shape)\n",
    "    y_train[train_mask, :] = loaded_labels[train_mask, :]\n",
    "    y_val[val_mask, :] = loaded_labels[val_mask, :]\n",
    "    y_test[test_mask, :] = loaded_labels[test_mask, :]\n",
    "\n",
    "    return loaded_adj, loaded_features, y_train, y_val, y_test, train_mask, val_mask, test_mask"
   ]
  },
  {
   "cell_type": "code",
   "execution_count": 26,
   "metadata": {},
   "outputs": [],
   "source": [
    "adj, features, y_train, y_val, y_test, train_mask, val_mask, test_mask = load_data(CELL_LINE)"
   ]
  }
 ],
 "metadata": {
  "kernelspec": {
   "display_name": "Python 3",
   "language": "python",
   "name": "python3"
  },
  "language_info": {
   "codemirror_mode": {
    "name": "ipython",
    "version": 3
   },
   "file_extension": ".py",
   "mimetype": "text/x-python",
   "name": "python",
   "nbconvert_exporter": "python",
   "pygments_lexer": "ipython3",
   "version": "3.7.6"
  }
 },
 "nbformat": 4,
 "nbformat_minor": 4
}
